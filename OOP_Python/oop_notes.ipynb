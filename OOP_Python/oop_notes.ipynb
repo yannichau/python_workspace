{
 "metadata": {
  "language_info": {
   "codemirror_mode": {
    "name": "ipython",
    "version": 3
   },
   "file_extension": ".py",
   "mimetype": "text/x-python",
   "name": "python",
   "nbconvert_exporter": "python",
   "pygments_lexer": "ipython3",
   "version": "3.8.3-final"
  },
  "orig_nbformat": 2,
  "kernelspec": {
   "name": "python_defaultSpec_1600315799034",
   "display_name": "Python 3.8.3 64-bit ('base': conda)"
  }
 },
 "nbformat": 4,
 "nbformat_minor": 2,
 "cells": [
  {
   "source": [
    "# Object Oriented Programming on Python\n",
    "\n",
    "- Within the class, the object itself is passed as self.\n",
    "- Outside the class, the object is passed automatically, so there is omitted from the input parameters.\n",
    "\n",
    "## Class vs Instance Variables\n",
    "- Class variables are same for each instance of the object\n",
    "- Instance variables are different for unique object instances.\n"
   ],
   "cell_type": "markdown",
   "metadata": {}
  },
  {
   "cell_type": "code",
   "execution_count": 1,
   "metadata": {
    "tags": []
   },
   "outputs": [
    {
     "output_type": "stream",
     "name": "stdout",
     "text": "Corey schafer\n"
    }
   ],
   "source": [
    "# Define a class\n",
    "class Employee:\n",
    "\t\n",
    "\t# Class variable\n",
    "\tnum_of_emps = 0\n",
    "\traise_amount = 1.04\n",
    "\t\n",
    "\t# Constructor (initialise members)\n",
    "\tdef __init__(self, first, last, pay):\n",
    "\t\tself.first = first\n",
    "\t\tself.last = last\n",
    "\t\tself.pay = pay\n",
    "\t\t# self.email = first + last + \"@company.com\"\n",
    "\t\tEmployee.num_of_emps += 1 # don't use self, will be different for different unique instances.\n",
    "\n",
    "\t# Arbitrary rerpresentations\n",
    "\tdef __repr__(self):\n",
    "\t\treturn \"Employee('{}', '{}','{}')\".format(self.first, self.last, self.pay)\n",
    "\n",
    "\tdef __str__(self):\n",
    "\t\treturn \"{} - {}\".format(self.full_name, self.email)\n",
    "\n",
    "\t# Return combined salary\n",
    "\tdef __add__(self, other):\n",
    "\t\treturn self.pay + other.pay\n",
    "\n",
    "\tdef __len__(self):\n",
    "\t\treturn len(self.full_name)\n",
    "\n",
    "\t# Regular Methods\n",
    "\t@property\n",
    "\tdef full_name(self):\n",
    "\t\treturn '{} {}'.format(self.first, self.last)\n",
    "\n",
    "\t@full_name.setter\n",
    "\tdef full_name(self, name):\n",
    "\t\tfirst, last = name.split(\" \")\n",
    "\t\tself.first = first\n",
    "\t\tself.last = last\n",
    "\n",
    "\t@full_name.deleter\n",
    "\tdef full_name(self):\n",
    "\t\tprint(\"Delete Name!\")\n",
    "\t\tself.first = None\n",
    "\t\tself.last = None\n",
    "\n",
    "\tdef apply_raise(self):\n",
    "\t\t# self.pay = int(self.pay*1.04)\n",
    "\t\tself.pay = int(self.pay * self.raise_amount)\n",
    "\t\n",
    "\t@property # access it like an attribute/ member!\n",
    "\tdef email(self):\n",
    "\t\treturn \"{}{}@company.com\".format(self.first, self.last)\n",
    "\t\n",
    "\t# Class Method\n",
    "\t@classmethod # this means that class is the first argument. cls used for convention (can't use class)\n",
    "\tdef set_raise_amt(cls, amount):\n",
    "\t\tcls.raise_amount = amount\n",
    "\t\n",
    "\t@classmethod\n",
    "\t# Alternative constructor from long string\n",
    "\tdef from_string(cls, emp_str):\n",
    "\t\tfirst, last, pay = emp_str.split(\"-\")\n",
    "\t\treturn cls(first, last, pay)\n",
    "\n",
    "\t@staticmethod\n",
    "\t# just takes in arguments in needs, for when you don't need to access the class.\n",
    "\tdef is_workday(day):\n",
    "\t\tif day.weekday() == 5 or  day.weekday() == 6: # Saturday or Sunday\n",
    "\t\t\treturn False\n",
    "\t\treturn True\n",
    "\t\t\t\t\n",
    "# Unique instance variables of employees (preferred)\n",
    "emp_1 = Employee(\"Corey\", \"Schafer\", 5000)\n",
    "emp_2 = Employee(\"Yanni\", \"Chau\", 10000)\n",
    "\n",
    "# Assign members manually\n",
    "emp_1.first = \"Corey\"\n",
    "emp_1.last = \"schafer\"\n",
    "# emp_1.email = \"coreyschafer@company.com\"\n",
    "emp_1.pay = 5000\n",
    "\n",
    "# Call print method (2 ways)\n",
    "print(emp_1.full_name)\n",
    "# print(Employee.full_name(emp_1))"
   ]
  },
  {
   "source": [
    "Having a look at the entire dictionary of each instance of the employee object."
   ],
   "cell_type": "markdown",
   "metadata": {}
  },
  {
   "cell_type": "code",
   "execution_count": 2,
   "metadata": {
    "tags": []
   },
   "outputs": [
    {
     "output_type": "stream",
     "name": "stdout",
     "text": "{'first': 'Corey', 'last': 'schafer', 'pay': 5000}\n{'first': 'Yanni', 'last': 'Chau', 'pay': 10000}\n"
    }
   ],
   "source": [
    "print(emp_1.__dict__)\n",
    "print(emp_2.__dict__)"
   ]
  },
  {
   "source": [
    "Printing the dictionary of the entire employee object."
   ],
   "cell_type": "markdown",
   "metadata": {}
  },
  {
   "cell_type": "code",
   "execution_count": 3,
   "metadata": {
    "tags": []
   },
   "outputs": [
    {
     "output_type": "stream",
     "name": "stdout",
     "text": "{'__module__': '__main__', 'num_of_emps': 2, 'raise_amount': 1.04, '__init__': <function Employee.__init__ at 0x10fac34c0>, '__repr__': <function Employee.__repr__ at 0x10fac3c10>, '__str__': <function Employee.__str__ at 0x10fac3ca0>, '__add__': <function Employee.__add__ at 0x10fac3d30>, '__len__': <function Employee.__len__ at 0x10fac3dc0>, 'full_name': <property object at 0x10faf8c20>, 'apply_raise': <function Employee.apply_raise at 0x10fafa040>, 'email': <property object at 0x10f991c70>, 'set_raise_amt': <classmethod object at 0x10faf7e80>, 'from_string': <classmethod object at 0x10faf7eb0>, 'is_workday': <staticmethod object at 0x10faf7ee0>, '__dict__': <attribute '__dict__' of 'Employee' objects>, '__weakref__': <attribute '__weakref__' of 'Employee' objects>, '__doc__': None}\n"
    }
   ],
   "source": [
    "print(Employee.__dict__)"
   ]
  },
  {
   "source": [
    "This is handy - setting the raise amount for one employee only."
   ],
   "cell_type": "markdown",
   "metadata": {}
  },
  {
   "cell_type": "code",
   "execution_count": 4,
   "metadata": {
    "tags": []
   },
   "outputs": [
    {
     "output_type": "stream",
     "name": "stdout",
     "text": "{'first': 'Corey', 'last': 'schafer', 'pay': 5000, 'raise_amount': 1.05}\n{'first': 'Yanni', 'last': 'Chau', 'pay': 10000}\n"
    }
   ],
   "source": [
    "emp_1.raise_amount = 1.05\n",
    "print(emp_1.__dict__)\n",
    "print(emp_2.__dict__)"
   ]
  },
  {
   "cell_type": "code",
   "execution_count": 5,
   "metadata": {
    "tags": []
   },
   "outputs": [
    {
     "output_type": "stream",
     "name": "stdout",
     "text": "2\n"
    }
   ],
   "source": [
    "print(Employee.num_of_emps)"
   ]
  },
  {
   "source": [
    "# Class Methods and Static Methods\n",
    "\n",
    "Static methods are just regular functions within classes.\n",
    "\n",
    "Now let's have a look at what the raise amount is. Only employee 1 is 1.05. The default (alongside emp_2) is 1.04\n",
    "\n",
    "- `@classmethod`\n",
    "- `@staticmethod`"
   ],
   "cell_type": "markdown",
   "metadata": {}
  },
  {
   "cell_type": "code",
   "execution_count": 6,
   "metadata": {
    "tags": []
   },
   "outputs": [
    {
     "output_type": "stream",
     "name": "stdout",
     "text": "1.04\n1.05\n1.04\n"
    }
   ],
   "source": [
    "print(Employee.raise_amount)\n",
    "print(emp_1.raise_amount)\n",
    "print(emp_2.raise_amount)"
   ]
  },
  {
   "source": [
    "This time we set the raise_amount for the entire employee class to 1.05"
   ],
   "cell_type": "markdown",
   "metadata": {}
  },
  {
   "cell_type": "code",
   "execution_count": 7,
   "metadata": {
    "tags": []
   },
   "outputs": [
    {
     "output_type": "stream",
     "name": "stdout",
     "text": "1.05\n1.05\n1.05\n"
    }
   ],
   "source": [
    "# Alternative methods to do the same thing.\n",
    "Employee.raise_amount = 1.05\n",
    "Employee.set_raise_amt(1.05)\n",
    "\n",
    "print(Employee.raise_amount)\n",
    "print(emp_1.raise_amount)\n",
    "print(emp_2.raise_amount)"
   ]
  },
  {
   "source": [
    "Here we try and deploy the from string method."
   ],
   "cell_type": "markdown",
   "metadata": {}
  },
  {
   "cell_type": "code",
   "execution_count": 8,
   "metadata": {},
   "outputs": [],
   "source": [
    "emp_str_1 = \"John-Doe-70000\"\n",
    "emp_str_2 = \"Steve-Smith-30000\"\n",
    "emp_str_3 = \"Jane-Doe-90000\"\n",
    "\n",
    "first, last, pay = emp_str_1.split(\"-\")\n",
    "new_emp_1 = Employee(first, last, pay)"
   ]
  },
  {
   "cell_type": "code",
   "execution_count": 9,
   "metadata": {
    "tags": []
   },
   "outputs": [
    {
     "output_type": "stream",
     "name": "stdout",
     "text": "{'first': 'John', 'last': 'Doe', 'pay': '70000'}\n{'first': 'Steve', 'last': 'Smith', 'pay': '30000'}\n{'first': 'Jane', 'last': 'Doe', 'pay': '90000'}\n"
    }
   ],
   "source": [
    "emp_3 = Employee.from_string(emp_str_1)\n",
    "emp_4 = Employee.from_string(emp_str_2)\n",
    "emp_5 = Employee.from_string(emp_str_3)\n",
    "print(emp_3.__dict__)\n",
    "print(emp_4.__dict__)\n",
    "print(emp_5.__dict__)"
   ]
  },
  {
   "cell_type": "code",
   "execution_count": 10,
   "metadata": {
    "tags": []
   },
   "outputs": [
    {
     "output_type": "stream",
     "name": "stdout",
     "text": "False\n"
    }
   ],
   "source": [
    "import datetime\n",
    "my_date = datetime.date(2016, 7, 10)\n",
    "print(Employee.is_workday(my_date))"
   ]
  },
  {
   "source": [
    "# Inheritance and subclasses\n",
    "\n",
    "Subclasses, by default, inherit methods and attributes and methods from their parent classes.\n",
    "Will help make things easier to maintain, inherits a lot of attributes from the parent class (but with modifications)"
   ],
   "cell_type": "markdown",
   "metadata": {}
  },
  {
   "cell_type": "code",
   "execution_count": 11,
   "metadata": {},
   "outputs": [],
   "source": [
    "# Has all attributes and methods of the employee class\n",
    "class Developer(Employee):\n",
    "\n",
    "    # Def new constructor\n",
    "    def __init__(self, first, last, pay, prog_lang):\n",
    "        super().__init__(first, last, pay) # handle that with constructor of parent class\n",
    "        # Employee().__init__(self, first, last, pay) # alternative for classes with multiple inhertiances\n",
    "        self.prog_lang = prog_lang\n",
    "\n",
    "    # Things defined in subclass aoverrides parent class\n",
    "    raise_amount = 1.10"
   ]
  },
  {
   "cell_type": "code",
   "execution_count": 12,
   "metadata": {},
   "outputs": [],
   "source": [
    "class Manager(Employee):\n",
    "\n",
    "    # Def new constructor\n",
    "    def __init__(self, first, last, pay, employees = None):\n",
    "        super().__init__(first, last, pay) # handle that with constructor of parent class\n",
    "        if employees is None:\n",
    "            self.employees = []\n",
    "        else:\n",
    "            self.employees = employees\n",
    "    \n",
    "    def add_employee(self, emp):\n",
    "        if emp not in self.employees:\n",
    "            self.employees.append(emp)\n",
    "\n",
    "    def remove_employee(self, emp):\n",
    "        if emp in self.employees:\n",
    "            self.employees.remove(emp)\n",
    "    \n",
    "    def print_employee(self):\n",
    "        for emp in self.employees:\n",
    "            print('-->', emp.full_name)\n"
   ]
  },
  {
   "cell_type": "code",
   "execution_count": 13,
   "metadata": {
    "tags": []
   },
   "outputs": [
    {
     "output_type": "stream",
     "name": "stdout",
     "text": "ErlichBachman@company.com\nPython\nTahKitikul@company.com\nJava\n"
    }
   ],
   "source": [
    "# dev_1 =  Employee(\"Corey\", \"Schafer\", 50000)\n",
    "dev_1 =  Developer(\"Erlich\", \"Bachman\", 50000, \"Python\")\n",
    "dev_2 = Developer(\"Tah\", \"Kitikul\", 10000, \"Java\")\n",
    "\n",
    "print(dev_1.email)\n",
    "print(dev_1.prog_lang)\n",
    "print(dev_2.email)\n",
    "print(dev_2.prog_lang)"
   ]
  },
  {
   "cell_type": "code",
   "execution_count": 14,
   "metadata": {
    "tags": []
   },
   "outputs": [
    {
     "output_type": "stream",
     "name": "stdout",
     "text": "Help on class Developer in module __main__:\n\nclass Developer(Employee)\n |  Developer(first, last, pay, prog_lang)\n |  \n |  Method resolution order:\n |      Developer\n |      Employee\n |      builtins.object\n |  \n |  Methods defined here:\n |  \n |  __init__(self, first, last, pay, prog_lang)\n |      Initialize self.  See help(type(self)) for accurate signature.\n |  \n |  ----------------------------------------------------------------------\n |  Data and other attributes defined here:\n |  \n |  raise_amount = 1.1\n |  \n |  ----------------------------------------------------------------------\n |  Methods inherited from Employee:\n |  \n |  __add__(self, other)\n |      # Return combined salary\n |  \n |  __len__(self)\n |  \n |  __repr__(self)\n |      Return repr(self).\n |  \n |  __str__(self)\n |      Return str(self).\n |  \n |  apply_raise(self)\n |  \n |  ----------------------------------------------------------------------\n |  Class methods inherited from Employee:\n |  \n |  from_string(emp_str) from builtins.type\n |  \n |  set_raise_amt(amount) from builtins.type\n |      # Class Method\n |  \n |  ----------------------------------------------------------------------\n |  Static methods inherited from Employee:\n |  \n |  is_workday(day)\n |  \n |  ----------------------------------------------------------------------\n |  Readonly properties inherited from Employee:\n |  \n |  email\n |  \n |  ----------------------------------------------------------------------\n |  Data descriptors inherited from Employee:\n |  \n |  __dict__\n |      dictionary for instance variables (if defined)\n |  \n |  __weakref__\n |      list of weak references to the object (if defined)\n |  \n |  full_name\n |  \n |  ----------------------------------------------------------------------\n |  Data and other attributes inherited from Employee:\n |  \n |  num_of_emps = 8\n\nNone\n"
    }
   ],
   "source": [
    "print(help(Developer))"
   ]
  },
  {
   "cell_type": "code",
   "execution_count": 15,
   "metadata": {
    "tags": []
   },
   "outputs": [
    {
     "output_type": "stream",
     "name": "stdout",
     "text": "50000\n55000\n"
    }
   ],
   "source": [
    "print(dev_1.pay)\n",
    "dev_1.apply_raise()\n",
    "print(dev_1.pay)"
   ]
  },
  {
   "cell_type": "code",
   "execution_count": 16,
   "metadata": {
    "tags": []
   },
   "outputs": [
    {
     "output_type": "stream",
     "name": "stdout",
     "text": "SueSmith@company.com\n--> Erlich Bachman\n--> Tah Kitikul\n"
    }
   ],
   "source": [
    "mgr_1 = Manager(\"Sue\", \"Smith\", 90000, [dev_1])\n",
    "mgr_1.add_employee(dev_2)\n",
    "print(mgr_1.email)\n",
    "mgr_1.print_employee()"
   ]
  },
  {
   "cell_type": "code",
   "execution_count": 17,
   "metadata": {
    "tags": []
   },
   "outputs": [
    {
     "output_type": "stream",
     "name": "stdout",
     "text": "--> Tah Kitikul\n"
    }
   ],
   "source": [
    "mgr_1.remove_employee(dev_1)\n",
    "mgr_1.print_employee()"
   ]
  },
  {
   "source": [
    "Is instance will tell us is if an object is an instance of a class"
   ],
   "cell_type": "markdown",
   "metadata": {}
  },
  {
   "cell_type": "code",
   "execution_count": 18,
   "metadata": {
    "tags": []
   },
   "outputs": [
    {
     "output_type": "stream",
     "name": "stdout",
     "text": "True\nTrue\nFalse\n"
    }
   ],
   "source": [
    "print(isinstance(mgr_1, Manager))\n",
    "print(isinstance(mgr_1, Employee))\n",
    "print(isinstance(mgr_1, Developer))"
   ]
  },
  {
   "source": [
    "Is subclass will tell us if an object is a subclass of a parent class"
   ],
   "cell_type": "markdown",
   "metadata": {}
  },
  {
   "cell_type": "code",
   "execution_count": 19,
   "metadata": {
    "tags": []
   },
   "outputs": [
    {
     "output_type": "stream",
     "name": "stdout",
     "text": "True\nFalse\nTrue\nFalse\n"
    }
   ],
   "source": [
    "print(issubclass(Manager, Employee))\n",
    "print(issubclass(Employee, Manager))\n",
    "print(issubclass(Developer, Employee))\n",
    "print(issubclass(Employee, Developer))"
   ]
  },
  {
   "source": [
    "# Magic/ Dunder Methods\n",
    "\n",
    "- Operator overloading\n",
    "- Override some built in operations such as print, as well as double underscore (dunder) functions which have special meanings in Python\n",
    "\n",
    "e.g. \n",
    "- `repr` is an unambiguous representation of the object, used for debugging.  \n",
    "- `str` is a readable representation of an object, display to the end user."
   ],
   "cell_type": "markdown",
   "metadata": {}
  },
  {
   "cell_type": "code",
   "execution_count": 20,
   "metadata": {
    "tags": []
   },
   "outputs": [
    {
     "output_type": "stream",
     "name": "stdout",
     "text": "Employee('Corey', 'schafer','5000')\nCorey schafer - Coreyschafer@company.com\nEmployee('Corey', 'schafer','5000')\nCorey schafer - Coreyschafer@company.com\n"
    }
   ],
   "source": [
    "print(repr(emp_1))\n",
    "print(str(emp_1))\n",
    "\n",
    "# Alternative\n",
    "print(emp_1.__repr__())\n",
    "print(emp_1.__str__())"
   ]
  },
  {
   "source": [
    "print(1+2)\n",
    "print(int.__add__(1,2))\n",
    "print(str.__add__(\"a\",\"b\"))"
   ],
   "cell_type": "code",
   "metadata": {
    "tags": []
   },
   "execution_count": 21,
   "outputs": [
    {
     "output_type": "stream",
     "name": "stdout",
     "text": "3\n3\nab\n"
    }
   ]
  },
  {
   "cell_type": "code",
   "execution_count": 22,
   "metadata": {
    "tags": []
   },
   "outputs": [
    {
     "output_type": "stream",
     "name": "stdout",
     "text": "Combined Salaries\n15000\n"
    }
   ],
   "source": [
    "print(\"Combined Salaries\")\n",
    "print(emp_1 + emp_2)"
   ]
  },
  {
   "cell_type": "code",
   "execution_count": 23,
   "metadata": {
    "tags": []
   },
   "outputs": [
    {
     "output_type": "stream",
     "name": "stdout",
     "text": "4\n4\n"
    }
   ],
   "source": [
    "print(len(\"test\"))\n",
    "print(\"test\".__len__())"
   ]
  },
  {
   "cell_type": "code",
   "execution_count": 24,
   "metadata": {
    "tags": []
   },
   "outputs": [
    {
     "output_type": "stream",
     "name": "stdout",
     "text": "13\n"
    }
   ],
   "source": [
    "print(len(emp_1))"
   ]
  },
  {
   "source": [
    "One problem: things constructed in the constructor don't change automatically!\n",
    "\n",
    "Solution: property decorators (like getters, setters and deleters)\n",
    "\n",
    "- `@property` makes it easy to get (but not set) the attribute, for instance the email\n",
    "- `@(nameofgetter).setter` and then method with the same name."
   ],
   "cell_type": "markdown",
   "metadata": {}
  },
  {
   "cell_type": "code",
   "execution_count": 25,
   "metadata": {
    "tags": []
   },
   "outputs": [
    {
     "output_type": "stream",
     "name": "stdout",
     "text": "Jane Doe - JaneDoe@company.com\n"
    }
   ],
   "source": [
    "print(emp_5)"
   ]
  },
  {
   "cell_type": "code",
   "execution_count": 26,
   "metadata": {
    "tags": []
   },
   "outputs": [
    {
     "output_type": "stream",
     "name": "stdout",
     "text": "Janet\nJanetDoe@company.com\nJanet Doe\n"
    }
   ],
   "source": [
    "emp_5.first = \"Janet\"\n",
    "\n",
    "print(emp_5.first)\n",
    "print(emp_5.email)\n",
    "print(emp_5.full_name)"
   ]
  },
  {
   "cell_type": "code",
   "execution_count": 27,
   "metadata": {
    "tags": []
   },
   "outputs": [
    {
     "output_type": "stream",
     "name": "stdout",
     "text": "Delete Name!\n"
    }
   ],
   "source": [
    "del emp_1.full_name"
   ]
  }
 ]
}